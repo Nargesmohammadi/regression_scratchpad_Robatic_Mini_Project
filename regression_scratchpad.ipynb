{
 "cells": [
  {
   "cell_type": "code",
   "execution_count": 35,
   "metadata": {},
   "outputs": [],
   "source": [
    "from sklearn.linear_model import LinearRegression\n",
    "import numpy as np\n",
    "import pandas as pd\n",
    "from sklearn import linear_model"
   ]
  },
  {
   "cell_type": "code",
   "execution_count": 74,
   "metadata": {},
   "outputs": [
    {
     "name": "stdout",
     "output_type": "stream",
     "text": [
      "   critic 1  critic 2  critic 3  critic 4  critic 5  critic 6  critic 7\n",
      "0       3.0         5         9         2         5         5       7.0\n",
      "1       6.0         7         5         4         8         7       8.0\n",
      "2       0.0         6         4         3         8         5       8.0\n",
      "3       9.5        10         6         8         6         7       9.0\n",
      "4       9.0         4         4         6         4         9       NaN\n",
      "5       7.0         9        10         7         5         8       8.0\n",
      "6       8.0         9         9         9         3        10       6.0\n",
      "7       8.0         8         8        10         0         9       9.0\n",
      "8       9.0         5         8         7         9         8       8.0\n",
      "9      10.0         4        10         8         7         8      10.0\n"
     ]
    }
   ],
   "source": [
    "critics = ['critic 1', \n",
    "'critic 2', \n",
    "'critic 3', \n",
    "'critic 4', \n",
    "'critic 5', \n",
    "'critic 6', \n",
    "'critic 7', \n",
    "]\n",
    "df = pd.DataFrame([\n",
    "    [3, 5, 9, 2, 5, 5, 7],\n",
    "    [6, 7, 5, 4, 8, 7, 8],\n",
    "    [0, 6, 4, 3, 8, 5, 8],\n",
    "    [9.5, 10, 6, 8, 6, 7, 9],\n",
    "    [9, 4, 4, 6, 4, 9, np.NaN],\n",
    "    [7, 9, 10, 7, 5, 8, 8],\n",
    "    [8, 9, 9, 9, 3, 10, 6],\n",
    "    [8, 8, 8, 10, 0, 9, 9],\n",
    "    [9, 5, 8, 7, 9, 8, 8],\n",
    "    [10, 4, 10, 8, 7, 8, 10]\n",
    "    ], range(10), critics)\n",
    "print(df)"
   ]
  },
  {
   "cell_type": "code",
   "execution_count": 79,
   "metadata": {},
   "outputs": [
    {
     "name": "stdout",
     "output_type": "stream",
     "text": [
      "   critic 1  critic 2  critic 3  critic 4  critic 5  critic 6  critic 7  \\\n",
      "0       3.0         5         9         2         5         5       7.0   \n",
      "1       6.0         7         5         4         8         7       8.0   \n",
      "2       0.0         6         4         3         8         5       8.0   \n",
      "3       9.5        10         6         8         6         7       9.0   \n",
      "4       9.0         4         4         6         4         9       NaN   \n",
      "5       7.0         9        10         7         5         8       8.0   \n",
      "6       8.0         9         9         9         3        10       6.0   \n",
      "7       8.0         8         8        10         0         9       9.0   \n",
      "8       9.0         5         8         7         9         8       8.0   \n",
      "9      10.0         4        10         8         7         8      10.0   \n",
      "\n",
      "   critic 7_imp  \n",
      "0           7.0  \n",
      "1           8.0  \n",
      "2           8.0  \n",
      "3           9.0  \n",
      "4          10.0  \n",
      "5           8.0  \n",
      "6           6.0  \n",
      "7           9.0  \n",
      "8           8.0  \n",
      "9          10.0  \n"
     ]
    }
   ],
   "source": [
    "missing_columns = ['critic 7']\n",
    "\n",
    "def random_imputation(df, feature):\n",
    "\n",
    "    number_missing = df[feature].isnull().sum()\n",
    "    observed_values = df.loc[df[feature].notnull(), feature]\n",
    "    df.loc[df[feature].isnull(), feature + '_imp'] = np.random.choice(observed_values, number_missing, replace = True)\n",
    "    \n",
    "    return df\n",
    "\n",
    "for feature in missing_columns:\n",
    "    df[feature + '_imp'] = df[feature]\n",
    "    df = random_imputation(df, feature)\n",
    "print(df)"
   ]
  },
  {
   "cell_type": "code",
   "execution_count": 77,
   "metadata": {},
   "outputs": [],
   "source": [
    "deter_data = pd.DataFrame(columns = [\"Det\" + str(name for name in missing_columns)])\n",
    "\n",
    "for feature in missing_columns:\n",
    "        \n",
    "    deter_data[\"Det\" + feature] = df[str(feature) + \"_imp\"]\n",
    "    parameters = list(set(df.columns) - set(missing_columns) - {feature + '_imp'})\n",
    "    \n",
    "    #Create a Linear Regression model to estimate the missing data\n",
    "    model = linear_model.LinearRegression()\n",
    "    model.fit(X = df[parameters], y = df[feature + '_imp'])\n",
    "    \n",
    "    #observe that I preserve the index of the missing data from the original dataframe\n",
    "    deter_data.loc[df[feature].isnull(), \"Det\" + feature] = model.predict(df[parameters])[df[feature].isnull()]"
   ]
  },
  {
   "cell_type": "code",
   "execution_count": 78,
   "metadata": {},
   "outputs": [
    {
     "name": "stdout",
     "output_type": "stream",
     "text": [
      "   critic 1  critic 2  critic 3  critic 4  critic 5  critic 6  critic 7  \\\n",
      "0       3.0         5         9         2         5         5       7.0   \n",
      "1       6.0         7         5         4         8         7       8.0   \n",
      "2       0.0         6         4         3         8         5       8.0   \n",
      "3       9.5        10         6         8         6         7       9.0   \n",
      "4       9.0         4         4         6         4         9       NaN   \n",
      "5       7.0         9        10         7         5         8       8.0   \n",
      "6       8.0         9         9         9         3        10       6.0   \n",
      "7       8.0         8         8        10         0         9       9.0   \n",
      "8       9.0         5         8         7         9         8       8.0   \n",
      "9      10.0         4        10         8         7         8      10.0   \n",
      "\n",
      "   critic 7_imp  \n",
      "0           7.0  \n",
      "1           8.0  \n",
      "2           8.0  \n",
      "3           9.0  \n",
      "4           8.0  \n",
      "5           8.0  \n",
      "6           6.0  \n",
      "7           9.0  \n",
      "8           8.0  \n",
      "9          10.0  \n"
     ]
    }
   ],
   "source": [
    "print(df)"
   ]
  }
 ],
 "metadata": {
  "kernelspec": {
   "display_name": "Python 3.8.10 64-bit",
   "language": "python",
   "name": "python3"
  },
  "language_info": {
   "codemirror_mode": {
    "name": "ipython",
    "version": 3
   },
   "file_extension": ".py",
   "mimetype": "text/x-python",
   "name": "python",
   "nbconvert_exporter": "python",
   "pygments_lexer": "ipython3",
   "version": "3.8.10"
  },
  "orig_nbformat": 4,
  "vscode": {
   "interpreter": {
    "hash": "5b3ded1ccb95c1d9bd405e7b823d9e85424cde40fbb5985eb47e999ef50e15b4"
   }
  }
 },
 "nbformat": 4,
 "nbformat_minor": 2
}
